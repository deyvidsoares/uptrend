{
 "cells": [
  {
   "cell_type": "code",
   "execution_count": 2,
   "id": "439bc1e4",
   "metadata": {},
   "outputs": [
    {
     "name": "stdout",
     "output_type": "stream",
     "text": [
      "Collecting investpy\n",
      "  Downloading investpy-1.0.6.tar.gz (4.4 MB)\n",
      "Collecting Unidecode>=1.1.1\n",
      "  Downloading Unidecode-1.2.0-py2.py3-none-any.whl (241 kB)\n",
      "Requirement already satisfied: setuptools>=41.2.0 in c:\\users\\cliente\\anaconda3\\envs\\aula-1\\lib\\site-packages (from investpy) (52.0.0.post20210125)\n",
      "Requirement already satisfied: numpy>=1.17.2 in c:\\users\\cliente\\anaconda3\\envs\\aula-1\\lib\\site-packages (from investpy) (1.20.1)\n",
      "Requirement already satisfied: pandas>=0.25.1 in c:\\users\\cliente\\anaconda3\\envs\\aula-1\\lib\\site-packages (from investpy) (1.2.4)\n",
      "Requirement already satisfied: lxml>=4.4.1 in c:\\users\\cliente\\anaconda3\\envs\\aula-1\\lib\\site-packages (from investpy) (4.6.3)\n",
      "Requirement already satisfied: requests>=2.22.0 in c:\\users\\cliente\\anaconda3\\envs\\aula-1\\lib\\site-packages (from investpy) (2.25.1)\n",
      "Requirement already satisfied: pytz>=2019.3 in c:\\users\\cliente\\anaconda3\\envs\\aula-1\\lib\\site-packages (from investpy) (2021.1)\n",
      "Requirement already satisfied: python-dateutil>=2.7.3 in c:\\users\\cliente\\anaconda3\\envs\\aula-1\\lib\\site-packages (from pandas>=0.25.1->investpy) (2.8.1)\n",
      "Requirement already satisfied: six>=1.5 in c:\\users\\cliente\\appdata\\roaming\\python\\python39\\site-packages (from python-dateutil>=2.7.3->pandas>=0.25.1->investpy) (1.15.0)\n",
      "Requirement already satisfied: urllib3<1.27,>=1.21.1 in c:\\users\\cliente\\anaconda3\\envs\\aula-1\\lib\\site-packages (from requests>=2.22.0->investpy) (1.26.4)\n",
      "Requirement already satisfied: chardet<5,>=3.0.2 in c:\\users\\cliente\\anaconda3\\envs\\aula-1\\lib\\site-packages (from requests>=2.22.0->investpy) (4.0.0)\n",
      "Requirement already satisfied: certifi>=2017.4.17 in c:\\users\\cliente\\anaconda3\\envs\\aula-1\\lib\\site-packages (from requests>=2.22.0->investpy) (2020.12.5)\n",
      "Requirement already satisfied: idna<3,>=2.5 in c:\\users\\cliente\\anaconda3\\envs\\aula-1\\lib\\site-packages (from requests>=2.22.0->investpy) (2.10)\n",
      "Building wheels for collected packages: investpy\n",
      "  Building wheel for investpy (setup.py): started\n",
      "  Building wheel for investpy (setup.py): finished with status 'done'\n",
      "  Created wheel for investpy: filename=investpy-1.0.6-py3-none-any.whl size=4485152 sha256=710d85fa49a59125dedd200558d842cbfb3779ccd03d43396e013fc67eba1e49\n",
      "  Stored in directory: c:\\users\\cliente\\appdata\\local\\pip\\cache\\wheels\\a7\\1e\\87\\2ae431904bf97fd9f67b04d6859dd988111ef91f4b6b80d69e\n",
      "Successfully built investpy\n",
      "Installing collected packages: Unidecode, investpy\n",
      "Successfully installed Unidecode-1.2.0 investpy-1.0.6\n"
     ]
    }
   ],
   "source": [
    "!pip install investpy"
   ]
  },
  {
   "cell_type": "code",
   "execution_count": 7,
   "id": "90d11947",
   "metadata": {},
   "outputs": [
    {
     "name": "stdout",
     "output_type": "stream",
     "text": [
      "Collecting mpl_finance\n",
      "  Downloading mpl_finance-0.10.1-py3-none-any.whl (8.4 kB)\n",
      "Requirement already satisfied: matplotlib in c:\\users\\cliente\\anaconda3\\envs\\aula-1\\lib\\site-packages (from mpl_finance) (3.3.4)\n",
      "Requirement already satisfied: cycler>=0.10 in c:\\users\\cliente\\anaconda3\\envs\\aula-1\\lib\\site-packages (from matplotlib->mpl_finance) (0.10.0)\n",
      "Requirement already satisfied: python-dateutil>=2.1 in c:\\users\\cliente\\anaconda3\\envs\\aula-1\\lib\\site-packages (from matplotlib->mpl_finance) (2.8.1)\n",
      "Requirement already satisfied: pillow>=6.2.0 in c:\\users\\cliente\\anaconda3\\envs\\aula-1\\lib\\site-packages (from matplotlib->mpl_finance) (8.2.0)\n",
      "Requirement already satisfied: numpy>=1.15 in c:\\users\\cliente\\anaconda3\\envs\\aula-1\\lib\\site-packages (from matplotlib->mpl_finance) (1.20.1)\n",
      "Requirement already satisfied: kiwisolver>=1.0.1 in c:\\users\\cliente\\anaconda3\\envs\\aula-1\\lib\\site-packages (from matplotlib->mpl_finance) (1.3.1)\n",
      "Requirement already satisfied: pyparsing!=2.0.4,!=2.1.2,!=2.1.6,>=2.0.3 in c:\\users\\cliente\\anaconda3\\envs\\aula-1\\lib\\site-packages (from matplotlib->mpl_finance) (2.4.7)\n",
      "Requirement already satisfied: six in c:\\users\\cliente\\appdata\\roaming\\python\\python39\\site-packages (from cycler>=0.10->matplotlib->mpl_finance) (1.15.0)\n",
      "Installing collected packages: mpl-finance\n",
      "Successfully installed mpl-finance-0.10.1\n",
      "Note: you may need to restart the kernel to use updated packages.\n"
     ]
    }
   ],
   "source": [
    "pip install --upgrade mpl_finance"
   ]
  },
  {
   "cell_type": "code",
   "execution_count": 11,
   "id": "ea654286",
   "metadata": {},
   "outputs": [],
   "source": [
    "import mplfinance as mpf"
   ]
  },
  {
   "cell_type": "code",
   "execution_count": 19,
   "id": "6638abe7",
   "metadata": {},
   "outputs": [],
   "source": [
    "import investpy\n",
    "import matplotlib.pyplot as plt\n",
    "import matplotlib.dates as mdates"
   ]
  },
  {
   "cell_type": "code",
   "execution_count": 22,
   "id": "7f12fe9c",
   "metadata": {},
   "outputs": [],
   "source": [
    "from mplfinance.original_flavor import candlestick_ohlc"
   ]
  },
  {
   "cell_type": "code",
   "execution_count": 26,
   "id": "77830c89",
   "metadata": {},
   "outputs": [],
   "source": [
    "acao2 = 'BPAC11'\n",
    "\n",
    "df_bolsa = investpy.get_stock_historical_data(stock=acao2,\n",
    "                                          country='brazil',\n",
    "                                          from_date='01/01/2015',\n",
    "                                          to_date='02/06/2021')\n",
    "\n",
    "df_bolsa.index.names = ['Data']\n",
    "df_bolsa.columns = ['Abertura', 'Maximo', 'Minimo', 'Fechamento', 'Volume', 'Moeda']"
   ]
  },
  {
   "cell_type": "code",
   "execution_count": 27,
   "id": "b6a19f65",
   "metadata": {},
   "outputs": [],
   "source": [
    "df_ = df_bolsa.copy(deep=True)\n",
    "\n",
    "df_['Data'] = df_.index.map(mdates.date2num)\n",
    "\n",
    "# compute the simple moving average\n",
    "df_['ema21'] = df_['Fechamento'].ewm(span=21, adjust=False).mean()"
   ]
  },
  {
   "cell_type": "code",
   "execution_count": 28,
   "id": "634f8287",
   "metadata": {},
   "outputs": [
    {
     "name": "stdout",
     "output_type": "stream",
     "text": [
      "            Abertura  Maximo  Minimo  Fechamento   Volume Moeda     Data  \\\n",
      "Data                                                                       \n",
      "2017-02-17     18.00   18.00   18.00       18.00     5000   BRL  17214.0   \n",
      "2017-02-24     18.20   18.20   18.20       18.20     1300   BRL  17221.0   \n",
      "2017-03-01     18.20   18.20   17.95       17.95     4300   BRL  17226.0   \n",
      "2017-03-03     19.00   19.00   18.50       18.75     1800   BRL  17228.0   \n",
      "2017-03-06     18.80   19.50   18.50       19.20     5700   BRL  17231.0   \n",
      "...              ...     ...     ...         ...      ...   ...      ...   \n",
      "2021-05-27    121.88  124.18  121.15      123.00  7710900   BRL  18774.0   \n",
      "2021-05-28    123.49  123.94  121.33      122.94  2631000   BRL  18775.0   \n",
      "2021-05-31    125.00  125.77  123.25      124.30  3667900   BRL  18778.0   \n",
      "2021-06-01    125.79  125.79  119.61      122.00  4385900   BRL  18779.0   \n",
      "2021-06-02    122.20  123.38  120.00      121.30  3955700   BRL  18780.0   \n",
      "\n",
      "                 ema21  \n",
      "Data                    \n",
      "2017-02-17   18.000000  \n",
      "2017-02-24   18.018182  \n",
      "2017-03-01   18.011983  \n",
      "2017-03-03   18.079076  \n",
      "2017-03-06   18.180978  \n",
      "...                ...  \n",
      "2021-05-27  114.412398  \n",
      "2021-05-28  115.187634  \n",
      "2021-05-31  116.016031  \n",
      "2021-06-01  116.560028  \n",
      "2021-06-02  116.990935  \n",
      "\n",
      "[1036 rows x 8 columns]\n"
     ]
    }
   ],
   "source": [
    "print(df_)"
   ]
  },
  {
   "cell_type": "code",
   "execution_count": 29,
   "id": "2ee18c10",
   "metadata": {},
   "outputs": [],
   "source": [
    "tendencia_alta=1\n",
    "for i in range(6):\n",
    "  if(df_.ema21[-i-1] < df_.ema21[-i-2]):\n",
    "    tendencia_alta=0"
   ]
  },
  {
   "cell_type": "code",
   "execution_count": 30,
   "id": "d8bf72e6",
   "metadata": {},
   "outputs": [
    {
     "name": "stdout",
     "output_type": "stream",
     "text": [
      "\n",
      "BPAC11 está em tendência de alta!\n"
     ]
    }
   ],
   "source": [
    "print()\n",
    "if(tendencia_alta==1):\n",
    "    print(acao2 + ' está em tendência de alta!')\n",
    "else:\n",
    "    print(acao2 + ' não está em tendência de alta!')"
   ]
  },
  {
   "cell_type": "code",
   "execution_count": 31,
   "id": "95fd45ea",
   "metadata": {},
   "outputs": [
    {
     "data": {
      "image/png": "[encoded data removed]",
      "text/plain": [
       "<Figure size 720x360 with 1 Axes>"
      ]
     },
     "metadata": {
      "needs_background": "light"
     },
     "output_type": "display_data"
    }
   ],
   "source": [
    "# Plot Chart \n",
    "ohlc = df_[['Data', 'Abertura', 'Maximo', 'Minimo', 'Fechamento']]\n",
    "\n",
    "f1, ax = plt.subplots(figsize=(10, 5))"
   ]
  },
  {
   "cell_type": "code",
   "execution_count": 32,
   "id": "0c0f1727",
   "metadata": {},
   "outputs": [],
   "source": [
    "# plot the candlesticks\n",
    "candlestick_ohlc(ax, ohlc.values, width=.6, colorup='green', colordown='red')\n",
    "ax.xaxis.set_major_formatter(mdates.DateFormatter('%Y-%m'))"
   ]
  },
  {
   "cell_type": "code",
   "execution_count": 33,
   "id": "9bc704df",
   "metadata": {},
   "outputs": [
    {
     "data": {
      "text/plain": [
       "[<matplotlib.lines.Line2D at 0x1a1723a90d0>]"
      ]
     },
     "execution_count": 33,
     "metadata": {},
     "output_type": "execute_result"
    }
   ],
   "source": [
    "# plot the moving average lines\n",
    "label_ = acao2.upper() + ' ma21'\n",
    "ax.plot(df_.index, df_['ema21'], color='yellow', label=label_)\n",
    "# ax.plot(df.index, df['ema100'], color = 'purple', label = 'ma100')\n"
   ]
  },
  {
   "cell_type": "code",
   "execution_count": 34,
   "id": "22d76131",
   "metadata": {},
   "outputs": [
    {
     "data": {
      "image/png": "[encoded data removed]",
      "text/plain": [
       "<Figure size 432x288 with 1 Axes>"
      ]
     },
     "metadata": {
      "needs_background": "light"
     },
     "output_type": "display_data"
    }
   ],
   "source": [
    "# other parameters\n",
    "ax.grid(False)\n",
    "ax.legend()\n",
    "plt.title(acao2.upper() + ' : Gráfico Diário')\n",
    "plt.show(block=True)\n",
    "del (df_)"
   ]
  },
  {
   "cell_type": "code",
   "execution_count": null,
   "id": "8e01a1e4",
   "metadata": {},
   "outputs": [],
   "source": [
    "(:"
   ]
  },
  {
   "cell_type": "code",
   "execution_count": null,
   "id": "bce246ea",
   "metadata": {},
   "outputs": [],
   "source": []
  },
  {
   "cell_type": "code",
   "execution_count": null,
   "id": "c3f6825d",
   "metadata": {},
   "outputs": [],
   "source": []
  }
 ],
 "metadata": {
  "kernelspec": {
   "display_name": "Python 3",
   "language": "python",
   "name": "python3"
  },
  "language_info": {
   "codemirror_mode": {
    "name": "ipython",
    "version": 3
   },
   "file_extension": ".py",
   "mimetype": "text/x-python",
   "name": "python",
   "nbconvert_exporter": "python",
   "pygments_lexer": "ipython3",
   "version": "3.9.4"
  }
 },
 "nbformat": 4,
 "nbformat_minor": 5
}
